{
 "cells": [
  {
   "cell_type": "code",
   "execution_count": 1,
   "metadata": {},
   "outputs": [],
   "source": [
    "import numpy as np \n",
    "import pandas as pd \n",
    "import os\n",
    "import seaborn as sns"
   ]
  },
  {
   "cell_type": "code",
   "execution_count": 2,
   "metadata": {},
   "outputs": [
    {
     "data": {
      "text/html": [
       "<div>\n",
       "<style scoped>\n",
       "    .dataframe tbody tr th:only-of-type {\n",
       "        vertical-align: middle;\n",
       "    }\n",
       "\n",
       "    .dataframe tbody tr th {\n",
       "        vertical-align: top;\n",
       "    }\n",
       "\n",
       "    .dataframe thead th {\n",
       "        text-align: right;\n",
       "    }\n",
       "</style>\n",
       "<table border=\"1\" class=\"dataframe\">\n",
       "  <thead>\n",
       "    <tr style=\"text-align: right;\">\n",
       "      <th></th>\n",
       "      <th>age</th>\n",
       "      <th>sex</th>\n",
       "      <th>cp</th>\n",
       "      <th>trtbps</th>\n",
       "      <th>chol</th>\n",
       "      <th>fbs</th>\n",
       "      <th>restecg</th>\n",
       "      <th>thalachh</th>\n",
       "      <th>exng</th>\n",
       "      <th>oldpeak</th>\n",
       "      <th>slp</th>\n",
       "      <th>caa</th>\n",
       "      <th>thall</th>\n",
       "      <th>output</th>\n",
       "    </tr>\n",
       "  </thead>\n",
       "  <tbody>\n",
       "    <tr>\n",
       "      <td>0</td>\n",
       "      <td>63</td>\n",
       "      <td>1</td>\n",
       "      <td>3</td>\n",
       "      <td>145</td>\n",
       "      <td>233</td>\n",
       "      <td>1</td>\n",
       "      <td>0</td>\n",
       "      <td>150</td>\n",
       "      <td>0</td>\n",
       "      <td>2.3</td>\n",
       "      <td>0</td>\n",
       "      <td>0</td>\n",
       "      <td>1</td>\n",
       "      <td>1</td>\n",
       "    </tr>\n",
       "    <tr>\n",
       "      <td>1</td>\n",
       "      <td>37</td>\n",
       "      <td>1</td>\n",
       "      <td>2</td>\n",
       "      <td>130</td>\n",
       "      <td>250</td>\n",
       "      <td>0</td>\n",
       "      <td>1</td>\n",
       "      <td>187</td>\n",
       "      <td>0</td>\n",
       "      <td>3.5</td>\n",
       "      <td>0</td>\n",
       "      <td>0</td>\n",
       "      <td>2</td>\n",
       "      <td>1</td>\n",
       "    </tr>\n",
       "    <tr>\n",
       "      <td>2</td>\n",
       "      <td>41</td>\n",
       "      <td>0</td>\n",
       "      <td>1</td>\n",
       "      <td>130</td>\n",
       "      <td>204</td>\n",
       "      <td>0</td>\n",
       "      <td>0</td>\n",
       "      <td>172</td>\n",
       "      <td>0</td>\n",
       "      <td>1.4</td>\n",
       "      <td>2</td>\n",
       "      <td>0</td>\n",
       "      <td>2</td>\n",
       "      <td>1</td>\n",
       "    </tr>\n",
       "    <tr>\n",
       "      <td>3</td>\n",
       "      <td>56</td>\n",
       "      <td>1</td>\n",
       "      <td>1</td>\n",
       "      <td>120</td>\n",
       "      <td>236</td>\n",
       "      <td>0</td>\n",
       "      <td>1</td>\n",
       "      <td>178</td>\n",
       "      <td>0</td>\n",
       "      <td>0.8</td>\n",
       "      <td>2</td>\n",
       "      <td>0</td>\n",
       "      <td>2</td>\n",
       "      <td>1</td>\n",
       "    </tr>\n",
       "    <tr>\n",
       "      <td>4</td>\n",
       "      <td>57</td>\n",
       "      <td>0</td>\n",
       "      <td>0</td>\n",
       "      <td>120</td>\n",
       "      <td>354</td>\n",
       "      <td>0</td>\n",
       "      <td>1</td>\n",
       "      <td>163</td>\n",
       "      <td>1</td>\n",
       "      <td>0.6</td>\n",
       "      <td>2</td>\n",
       "      <td>0</td>\n",
       "      <td>2</td>\n",
       "      <td>1</td>\n",
       "    </tr>\n",
       "  </tbody>\n",
       "</table>\n",
       "</div>"
      ],
      "text/plain": [
       "   age  sex  cp  trtbps  chol  fbs  restecg  thalachh  exng  oldpeak  slp  \\\n",
       "0   63    1   3     145   233    1        0       150     0      2.3    0   \n",
       "1   37    1   2     130   250    0        1       187     0      3.5    0   \n",
       "2   41    0   1     130   204    0        0       172     0      1.4    2   \n",
       "3   56    1   1     120   236    0        1       178     0      0.8    2   \n",
       "4   57    0   0     120   354    0        1       163     1      0.6    2   \n",
       "\n",
       "   caa  thall  output  \n",
       "0    0      1       1  \n",
       "1    0      2       1  \n",
       "2    0      2       1  \n",
       "3    0      2       1  \n",
       "4    0      2       1  "
      ]
     },
     "execution_count": 2,
     "metadata": {},
     "output_type": "execute_result"
    }
   ],
   "source": [
    "#input Data\n",
    "df = pd.read_csv(\"D://portofolio/heart.csv\")\n",
    "df.head()"
   ]
  },
  {
   "cell_type": "code",
   "execution_count": 3,
   "metadata": {},
   "outputs": [
    {
     "name": "stdout",
     "output_type": "stream",
     "text": [
      "<class 'pandas.core.frame.DataFrame'>\n",
      "RangeIndex: 303 entries, 0 to 302\n",
      "Data columns (total 14 columns):\n",
      "age         303 non-null int64\n",
      "sex         303 non-null int64\n",
      "cp          303 non-null int64\n",
      "trtbps      303 non-null int64\n",
      "chol        303 non-null int64\n",
      "fbs         303 non-null int64\n",
      "restecg     303 non-null int64\n",
      "thalachh    303 non-null int64\n",
      "exng        303 non-null int64\n",
      "oldpeak     303 non-null float64\n",
      "slp         303 non-null int64\n",
      "caa         303 non-null int64\n",
      "thall       303 non-null int64\n",
      "output      303 non-null int64\n",
      "dtypes: float64(1), int64(13)\n",
      "memory usage: 33.3 KB\n",
      "None\n",
      "age \n",
      " [63 37 41 56 57 44 52 54 48 49 64 58 50 66 43 69 59 42 61 40 71 51 65 53\n",
      " 46 45 39 47 62 34 35 29 55 60 67 68 74 76 70 38 77] \n",
      "\n",
      "sex \n",
      " [1 0] \n",
      "\n",
      "cp \n",
      " [3 2 1 0] \n",
      "\n",
      "trtbps \n",
      " [145 130 120 140 172 150 110 135 160 105 125 142 155 104 138 128 108 134\n",
      " 122 115 118 100 124  94 112 102 152 101 132 148 178 129 180 136 126 106\n",
      " 156 170 146 117 200 165 174 192 144 123 154 114 164] \n",
      "\n",
      "chol \n",
      " [233 250 204 236 354 192 294 263 199 168 239 275 266 211 283 219 340 226\n",
      " 247 234 243 302 212 175 417 197 198 177 273 213 304 232 269 360 308 245\n",
      " 208 264 321 325 235 257 216 256 231 141 252 201 222 260 182 303 265 309\n",
      " 186 203 183 220 209 258 227 261 221 205 240 318 298 564 277 214 248 255\n",
      " 207 223 288 160 394 315 246 244 270 195 196 254 126 313 262 215 193 271\n",
      " 268 267 210 295 306 178 242 180 228 149 278 253 342 157 286 229 284 224\n",
      " 206 167 230 335 276 353 225 330 290 172 305 188 282 185 326 274 164 307\n",
      " 249 341 407 217 174 281 289 322 299 300 293 184 409 259 200 327 237 218\n",
      " 319 166 311 169 187 176 241 131] \n",
      "\n",
      "fbs \n",
      " [1 0] \n",
      "\n",
      "restecg \n",
      " [0 1 2] \n",
      "\n",
      "thalachh \n",
      " [150 187 172 178 163 148 153 173 162 174 160 139 171 144 158 114 151 161\n",
      " 179 137 157 123 152 168 140 188 125 170 165 142 180 143 182 156 115 149\n",
      " 146 175 186 185 159 130 190 132 147 154 202 166 164 184 122 169 138 111\n",
      " 145 194 131 133 155 167 192 121  96 126 105 181 116 108 129 120 112 128\n",
      " 109 113  99 177 141 136  97 127 103 124  88 195 106  95 117  71 118 134\n",
      "  90] \n",
      "\n",
      "exng \n",
      " [0 1] \n",
      "\n",
      "oldpeak \n",
      " [2.3 3.5 1.4 0.8 0.6 0.4 1.3 0.  0.5 1.6 1.2 0.2 1.8 1.  2.6 1.5 3.  2.4\n",
      " 0.1 1.9 4.2 1.1 2.  0.7 0.3 0.9 3.6 3.1 3.2 2.5 2.2 2.8 3.4 6.2 4.  5.6\n",
      " 2.9 2.1 3.8 4.4] \n",
      "\n",
      "slp \n",
      " [0 2 1] \n",
      "\n",
      "caa \n",
      " [0 2 1 3 4] \n",
      "\n",
      "thall \n",
      " [1 2 3 0] \n",
      "\n",
      "output \n",
      " [1 0] \n",
      "\n",
      "Before  (303, 14)\n",
      "After  (302, 14)\n"
     ]
    },
    {
     "data": {
      "text/plain": [
       "age         0\n",
       "sex         0\n",
       "cp          0\n",
       "trtbps      0\n",
       "chol        0\n",
       "fbs         0\n",
       "restecg     0\n",
       "thalachh    0\n",
       "exng        0\n",
       "oldpeak     0\n",
       "slp         0\n",
       "caa         0\n",
       "thall       0\n",
       "output      0\n",
       "dtype: int64"
      ]
     },
     "execution_count": 3,
     "metadata": {},
     "output_type": "execute_result"
    }
   ],
   "source": [
    "#Exploring Data\n",
    "print(df.info())\n",
    "df.head()\n",
    "for i in df:\n",
    " print(i,'\\n',df[i].unique(),'\\n')\n",
    "print('Before ',np.shape(df))\n",
    "# Dropping duplicates from the user_dets dataset\n",
    "df.drop_duplicates(inplace=True)\n",
    "# Rechecking the shape of the ratings dataset after dropping duplicate records\n",
    "print('After ',np.shape(df))\n",
    "df.isnull().sum()"
   ]
  },
  {
   "cell_type": "code",
   "execution_count": 4,
   "metadata": {},
   "outputs": [],
   "source": [
    "from sklearn.ensemble import RandomForestClassifier\n",
    "from sklearn.metrics import accuracy_score"
   ]
  },
  {
   "cell_type": "code",
   "execution_count": 5,
   "metadata": {},
   "outputs": [
    {
     "name": "stdout",
     "output_type": "stream",
     "text": [
      "     age  sex  cp  trtbps  chol  fbs  restecg  thalachh  exng  oldpeak  slp  \\\n",
      "0     63    1   3     145   233    1        0       150     0      2.3    0   \n",
      "1     37    1   2     130   250    0        1       187     0      3.5    0   \n",
      "2     41    0   1     130   204    0        0       172     0      1.4    2   \n",
      "3     56    1   1     120   236    0        1       178     0      0.8    2   \n",
      "4     57    0   0     120   354    0        1       163     1      0.6    2   \n",
      "..   ...  ...  ..     ...   ...  ...      ...       ...   ...      ...  ...   \n",
      "298   57    0   0     140   241    0        1       123     1      0.2    1   \n",
      "299   45    1   3     110   264    0        1       132     0      1.2    1   \n",
      "300   68    1   0     144   193    1        1       141     0      3.4    1   \n",
      "301   57    1   0     130   131    0        1       115     1      1.2    1   \n",
      "302   57    0   1     130   236    0        0       174     0      0.0    1   \n",
      "\n",
      "     caa  thall  \n",
      "0      0      1  \n",
      "1      0      2  \n",
      "2      0      2  \n",
      "3      0      2  \n",
      "4      0      2  \n",
      "..   ...    ...  \n",
      "298    0      3  \n",
      "299    0      3  \n",
      "300    2      3  \n",
      "301    1      3  \n",
      "302    1      2  \n",
      "\n",
      "[302 rows x 13 columns]\n",
      "0      1\n",
      "1      1\n",
      "2      1\n",
      "3      1\n",
      "4      1\n",
      "      ..\n",
      "298    0\n",
      "299    0\n",
      "300    0\n",
      "301    0\n",
      "302    0\n",
      "Name: output, Length: 302, dtype: int64\n"
     ]
    }
   ],
   "source": [
    "#X as independent variable and y as dependent variable\n",
    "feature_cols = ['age', 'sex', 'cp', 'trtbps','chol','fbs','restecg','thalachh','exng','oldpeak','slp','caa','thall']\n",
    "X = df[feature_cols] # Features\n",
    "y = df.output # Target variable\n",
    "print(X)\n",
    "print(y)"
   ]
  },
  {
   "cell_type": "code",
   "execution_count": 6,
   "metadata": {},
   "outputs": [],
   "source": [
    "#split data 80% as training set and 20% as testing set\n",
    "from sklearn.model_selection import train_test_split\n",
    "X_train, X_test, y_train, y_test= train_test_split(X,y,test_size=0.2, random_state=0)"
   ]
  },
  {
   "cell_type": "code",
   "execution_count": 7,
   "metadata": {},
   "outputs": [
    {
     "name": "stdout",
     "output_type": "stream",
     "text": [
      "1 0.7705\n",
      "6 0.8361\n",
      "11 0.8852\n",
      "16 0.8525\n",
      "21 0.8525\n",
      "26 0.8689\n",
      "31 0.8525\n",
      "36 0.8689\n",
      "41 0.8689\n",
      "46 0.8361\n"
     ]
    },
    {
     "data": {
      "image/png": "[encoded data removed]",
      "text/plain": [
       "<Figure size 432x288 with 1 Axes>"
      ]
     },
     "metadata": {
      "needs_background": "light"
     },
     "output_type": "display_data"
    }
   ],
   "source": [
    "#Random Forest\n",
    "import matplotlib.pyplot as plt\n",
    "from sklearn.ensemble import RandomForestClassifier\n",
    "from sklearn.metrics import accuracy_score\n",
    "accuracy=[]\n",
    "estimators_count=[]\n",
    "for i in range(1,51,5):\n",
    " RandomForest = RandomForestClassifier(n_estimators = i, criterion = 'entropy', random_state = 0)\n",
    " RandomForest.fit(X_train, y_train)\n",
    " y_predicted = RandomForest.predict(X_test)\n",
    " accuracy.append(accuracy_score(y_test,y_predicted))\n",
    " estimators_count.append(i)\n",
    " print(f'{i} {accuracy_score(y_test,y_predicted).round(4)}')\n",
    " \n",
    "# plot of No_of_Estimators VS Accuracy graph\n",
    "plt.plot(estimators_count,accuracy)\n",
    "plt.xlabel('Number of Estimators')\n",
    "plt.ylabel('Accuracy')\n",
    "plt.title('No_of_Estimators VS Accuracy')\n",
    "plt.grid(b=None)\n",
    "plt.show()\n"
   ]
  },
  {
   "cell_type": "code",
   "execution_count": 8,
   "metadata": {},
   "outputs": [
    {
     "name": "stdout",
     "output_type": "stream",
     "text": [
      "[0.22038987]\n",
      "[[ 0.01896545 -1.49229578  0.70952431 -0.0139317  -0.00339116 -0.2737969\n",
      "   0.12147322  0.02968416 -0.65239755 -0.50681572  0.35625074 -0.92193956\n",
      "  -0.77828988]]\n"
     ]
    },
    {
     "data": {
      "text/plain": [
       "array([[0.92850025, 0.07149975],\n",
       "       [0.22259472, 0.77740528],\n",
       "       [0.72343947, 0.27656053],\n",
       "       [0.92841248, 0.07158752],\n",
       "       [0.92221463, 0.07778537],\n",
       "       [0.9505745 , 0.0494255 ],\n",
       "       [0.94130986, 0.05869014],\n",
       "       [0.95838263, 0.04161737],\n",
       "       [0.97589909, 0.02410091],\n",
       "       [0.96547848, 0.03452152],\n",
       "       [0.25951389, 0.74048611],\n",
       "       [0.07294779, 0.92705221],\n",
       "       [0.95169185, 0.04830815],\n",
       "       [0.15406712, 0.84593288],\n",
       "       [0.04863389, 0.95136611],\n",
       "       [0.29446945, 0.70553055],\n",
       "       [0.94311132, 0.05688868],\n",
       "       [0.3058372 , 0.6941628 ],\n",
       "       [0.48408216, 0.51591784],\n",
       "       [0.21013875, 0.78986125],\n",
       "       [0.20278512, 0.79721488],\n",
       "       [0.61959893, 0.38040107],\n",
       "       [0.91780399, 0.08219601],\n",
       "       [0.70061986, 0.29938014],\n",
       "       [0.15383123, 0.84616877],\n",
       "       [0.99510984, 0.00489016],\n",
       "       [0.97394364, 0.02605636],\n",
       "       [0.64177427, 0.35822573],\n",
       "       [0.04134432, 0.95865568],\n",
       "       [0.37391677, 0.62608323],\n",
       "       [0.98495442, 0.01504558],\n",
       "       [0.99310391, 0.00689609],\n",
       "       [0.04607474, 0.95392526],\n",
       "       [0.3009062 , 0.6990938 ],\n",
       "       [0.1003739 , 0.8996261 ],\n",
       "       [0.89644935, 0.10355065],\n",
       "       [0.35791677, 0.64208323],\n",
       "       [0.15901751, 0.84098249],\n",
       "       [0.91274977, 0.08725023],\n",
       "       [0.88038575, 0.11961425],\n",
       "       [0.25019986, 0.74980014],\n",
       "       [0.19086431, 0.80913569],\n",
       "       [0.7189377 , 0.2810623 ],\n",
       "       [0.83351448, 0.16648552],\n",
       "       [0.51432428, 0.48567572],\n",
       "       [0.2383447 , 0.7616553 ],\n",
       "       [0.23850843, 0.76149157],\n",
       "       [0.38754599, 0.61245401],\n",
       "       [0.92626229, 0.07373771],\n",
       "       [0.20703638, 0.79296362],\n",
       "       [0.12657394, 0.87342606],\n",
       "       [0.30548031, 0.69451969],\n",
       "       [0.02773214, 0.97226786],\n",
       "       [0.22032742, 0.77967258],\n",
       "       [0.00678974, 0.99321026],\n",
       "       [0.21919155, 0.78080845],\n",
       "       [0.09284215, 0.90715785],\n",
       "       [0.08000462, 0.91999538],\n",
       "       [0.21239843, 0.78760157],\n",
       "       [0.0517757 , 0.9482243 ],\n",
       "       [0.26883722, 0.73116278]])"
      ]
     },
     "execution_count": 8,
     "metadata": {},
     "output_type": "execute_result"
    }
   ],
   "source": [
    "#Logistic Regression\n",
    "import matplotlib.pyplot as plt\n",
    "import numpy as np\n",
    "from sklearn.linear_model import LogisticRegression\n",
    "from sklearn.metrics import classification_report, confusion_matrix\n",
    "model = LogisticRegression(solver='liblinear', random_state=0)\n",
    "model = LogisticRegression(solver='liblinear', random_state=0).fit(X_train,y_train)\n",
    "model.intercept_\n",
    "intercept = model.intercept_\n",
    "print(intercept)\n",
    "slope =model.coef_\n",
    "print(slope)\n",
    "model.predict_proba(X_test)"
   ]
  },
  {
   "cell_type": "code",
   "execution_count": 9,
   "metadata": {},
   "outputs": [
    {
     "name": "stdout",
     "output_type": "stream",
     "text": [
      "              precision    recall  f1-score   support\n",
      "\n",
      "           0       0.85      0.81      0.83        27\n",
      "           1       0.86      0.88      0.87        34\n",
      "\n",
      "    accuracy                           0.85        61\n",
      "   macro avg       0.85      0.85      0.85        61\n",
      "weighted avg       0.85      0.85      0.85        61\n",
      "\n"
     ]
    },
    {
     "data": {
      "image/png": "[encoded data removed]",
      "text/plain": [
       "<Figure size 576x576 with 1 Axes>"
      ]
     },
     "metadata": {
      "needs_background": "light"
     },
     "output_type": "display_data"
    }
   ],
   "source": [
    "model.score(X_train,y_train)\n",
    "confusion_matrix(y_test, model.predict(X_test))\n",
    "cm = confusion_matrix(y_test, model.predict(X_test))\n",
    "print(classification_report(y_test, model.predict(X_test)))\n",
    "\n",
    "fig, ax = plt.subplots(figsize=(8, 8))\n",
    "ax.imshow(cm)\n",
    "ax.grid(False)\n",
    "ax.xaxis.set(ticks=(0, 1), ticklabels=('Predicted 0s', 'Predicted 1s'))\n",
    "ax.yaxis.set(ticks=(0, 1), ticklabels=('Actual 0s', 'Actual 1s'))\n",
    "ax.set_ylim(1.5, -0.5)\n",
    "for i in range(2):\n",
    "    for j in range(2):\n",
    "        ax.text(j, i, cm[i, j], ha='center', va='center', color='red')\n",
    "plt.show()"
   ]
  },
  {
   "cell_type": "code",
   "execution_count": 10,
   "metadata": {},
   "outputs": [
    {
     "name": "stdout",
     "output_type": "stream",
     "text": [
      "0.8423236514522822\n"
     ]
    }
   ],
   "source": [
    "accuracy = model.score(X_train,y_train)\n",
    "print(accuracy)"
   ]
  },
  {
   "cell_type": "code",
   "execution_count": 16,
   "metadata": {},
   "outputs": [
    {
     "name": "stdout",
     "output_type": "stream",
     "text": [
      "DecisionTreeClassifier(class_weight=None, criterion='gini', max_depth=None,\n",
      "                       max_features=None, max_leaf_nodes=None,\n",
      "                       min_impurity_decrease=0.0, min_impurity_split=None,\n",
      "                       min_samples_leaf=1, min_samples_split=2,\n",
      "                       min_weight_fraction_leaf=0.0, presort=False,\n",
      "                       random_state=None, splitter='best')\n",
      "[0 1 0 0 1 0 0 1 0 0 0 1 0 1 1 1 0 1 0 0 1 0 0 0 1 0 0 0 1 0 0 0 1 1 1 0 1\n",
      " 1 0 0 1 0 1 0 0 1 1 1 0 0 1 0 1 1 1 1 1 1 1 1 1]\n",
      "Accuracy: 0.7868852459016393\n"
     ]
    }
   ],
   "source": [
    "#Using Decision Tree\n",
    "import pandas as pd\n",
    "from sklearn.tree import DecisionTreeClassifier # Import Decision Tree Classifier\n",
    "from sklearn.model_selection import train_test_split # Import train_test_split function\n",
    "from sklearn import metrics #Import scikit-learn metrics module for accuracy calculation\n",
    "# Create Decision Tree classifer object\n",
    "clf = DecisionTreeClassifier()\n",
    "\n",
    "# Train Decision Tree Classifer\n",
    "clf = clf.fit(X_train,y_train)\n",
    "print(clf)\n",
    "\n",
    "#Predict the response for test dataset\n",
    "y_pred = clf.predict(X_test)\n",
    "print(y_pred)\n",
    "\n",
    "# Model Accuracy, how often is the classifier correct?\n",
    "print(\"Accuracy:\",metrics.accuracy_score(y_test, y_pred))"
   ]
  },
  {
   "cell_type": "code",
   "execution_count": 17,
   "metadata": {},
   "outputs": [
    {
     "name": "stdout",
     "output_type": "stream",
     "text": [
      "              precision    recall  f1-score   support\n",
      "\n",
      "           0       0.73      0.81      0.77        27\n",
      "           1       0.84      0.76      0.80        34\n",
      "\n",
      "    accuracy                           0.79        61\n",
      "   macro avg       0.79      0.79      0.79        61\n",
      "weighted avg       0.79      0.79      0.79        61\n",
      "\n"
     ]
    },
    {
     "data": {
      "image/png": "[encoded data removed]",
      "text/plain": [
       "<Figure size 576x576 with 1 Axes>"
      ]
     },
     "metadata": {
      "needs_background": "light"
     },
     "output_type": "display_data"
    }
   ],
   "source": [
    "confusion_matrix(y_test, y_pred)\n",
    "cm = confusion_matrix(y_test, y_pred)\n",
    "print(classification_report(y_test, y_pred))\n",
    "\n",
    "fig, ax = plt.subplots(figsize=(8, 8))\n",
    "ax.imshow(cm)\n",
    "ax.grid(False)\n",
    "ax.xaxis.set(ticks=(0, 1), ticklabels=('Predicted 0s', 'Predicted 1s'))\n",
    "ax.yaxis.set(ticks=(0, 1), ticklabels=('Actual 0s', 'Actual 1s'))\n",
    "ax.set_ylim(1.5, -0.5)\n",
    "for i in range(2):\n",
    "    for j in range(2):\n",
    "        ax.text(j, i, cm[i, j], ha='center', va='center', color='red')\n",
    "plt.show()"
   ]
  },
  {
   "cell_type": "code",
   "execution_count": null,
   "metadata": {},
   "outputs": [],
   "source": []
  }
 ],
 "metadata": {
  "kernelspec": {
   "display_name": "Python 3",
   "language": "python",
   "name": "python3"
  },
  "language_info": {
   "codemirror_mode": {
    "name": "ipython",
    "version": 3
   },
   "file_extension": ".py",
   "mimetype": "text/x-python",
   "name": "python",
   "nbconvert_exporter": "python",
   "pygments_lexer": "ipython3",
   "version": "3.7.4"
  }
 },
 "nbformat": 4,
 "nbformat_minor": 2
}
